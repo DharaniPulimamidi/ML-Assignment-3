{
 "cells": [
  {
   "cell_type": "code",
   "execution_count": 7,
   "id": "8a73bcdb",
   "metadata": {},
   "outputs": [
    {
     "name": "stdout",
     "output_type": "stream",
     "text": [
      "Shape of the array: (3, 5)\n",
      "Shape of the array: (4, 3)\n",
      "Type of the array: <class 'numpy.ndarray'>\n",
      "Data type of the array: int32\n"
     ]
    }
   ],
   "source": [
    "import numpy as np\n",
    "\n",
    "# Create a random vector of size 15 having integers in the range 1-20\n",
    "rand_vec = np.random.randint(1, 21, size=15)\n",
    "\n",
    "# Reshape the array to 3 by 5\n",
    "rand_mat = rand_vec.reshape((3, 5))\n",
    "\n",
    "# Print the array shape\n",
    "print(\"Shape of the array:\", rand_mat.shape)\n",
    "\n",
    "# Replace the max in each row by 0\n",
    "rand_mat[np.arange(3), rand_mat.argmax(axis=1)] = 0\n",
    "\n",
    "# Create a 2-dimensional array of size 4 x 3\n",
    "arr = np.zeros((4, 3), dtype=np.int32)\n",
    "\n",
    "# Print the shape, type and data type of the array\n",
    "print(\"Shape of the array:\", arr.shape)\n",
    "print(\"Type of the array:\", type(arr))\n",
    "print(\"Data type of the array:\", arr.dtype)\n"
   ]
  },
  {
   "cell_type": "code",
   "execution_count": 2,
   "id": "74662131",
   "metadata": {},
   "outputs": [
    {
     "name": "stdout",
     "output_type": "stream",
     "text": [
      "Eigenvalues: [2. 1.]\n",
      "Right Eigenvectors:\n",
      "[0.89442719 0.4472136 ]\n",
      "[0.70710678 0.70710678]\n"
     ]
    }
   ],
   "source": [
    "import numpy as np\n",
    "\n",
    "# Define the square array\n",
    "A = np.array([[3, -2], [1, 0]])\n",
    "\n",
    "# Compute the eigenvalues and right eigenvectors of A\n",
    "eigenvalues, eigenvectors = np.linalg.eig(A)\n",
    "\n",
    "# Print the eigenvalues and eigenvectors\n",
    "print(\"Eigenvalues:\", eigenvalues)\n",
    "print(\"Right Eigenvectors:\")\n",
    "for i in range(len(eigenvectors)):\n",
    "    print(eigenvectors[:, i])\n"
   ]
  },
  {
   "cell_type": "code",
   "execution_count": 3,
   "id": "643a2850",
   "metadata": {},
   "outputs": [
    {
     "name": "stdout",
     "output_type": "stream",
     "text": [
      "Sum of diagonal elements: 4\n"
     ]
    }
   ],
   "source": [
    "import numpy as np\n",
    "\n",
    "# Define the array\n",
    "A = np.array([[0, 1, 2], [3, 4, 5]])\n",
    "\n",
    "# Compute the sum of diagonal elements of A\n",
    "diag_sum = np.trace(A)\n",
    "\n",
    "# Print the sum of diagonal elements\n",
    "print(\"Sum of diagonal elements:\", diag_sum)\n"
   ]
  },
  {
   "cell_type": "code",
   "execution_count": 4,
   "id": "9ee5b6c4",
   "metadata": {},
   "outputs": [
    {
     "name": "stdout",
     "output_type": "stream",
     "text": [
      "Original Array:\n",
      " [[1 2]\n",
      " [3 4]\n",
      " [5 6]]\n",
      "Reshaped Array (2x3):\n",
      " [[1 2 3]\n",
      " [4 5 6]]\n",
      "Reshaped Array (3x2):\n",
      " [[1 2]\n",
      " [3 4]\n",
      " [5 6]]\n"
     ]
    }
   ],
   "source": [
    "import numpy as np\n",
    "\n",
    "# Define the array\n",
    "arr = np.array([[1, 2], [3, 4], [5, 6]])\n",
    "\n",
    "# Reshape the array to 2x3\n",
    "arr_2x3 = np.reshape(arr, (2, 3))\n",
    "\n",
    "# Reshape the array back to 3x2\n",
    "arr_3x2 = np.reshape(arr_2x3, (3, 2))\n",
    "\n",
    "# Print the original array and the reshaped arrays\n",
    "print(\"Original Array:\\n\", arr)\n",
    "print(\"Reshaped Array (2x3):\\n\", arr_2x3)\n",
    "print(\"Reshaped Array (3x2):\\n\", arr_3x2)\n"
   ]
  },
  {
   "cell_type": "code",
   "execution_count": null,
   "id": "ad3cdf98",
   "metadata": {},
   "outputs": [],
   "source": []
  }
 ],
 "metadata": {
  "kernelspec": {
   "display_name": "Python 3 (ipykernel)",
   "language": "python",
   "name": "python3"
  },
  "language_info": {
   "codemirror_mode": {
    "name": "ipython",
    "version": 3
   },
   "file_extension": ".py",
   "mimetype": "text/x-python",
   "name": "python",
   "nbconvert_exporter": "python",
   "pygments_lexer": "ipython3",
   "version": "3.11.1"
  }
 },
 "nbformat": 4,
 "nbformat_minor": 5
}
